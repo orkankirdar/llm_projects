{
 "cells": [
  {
   "cell_type": "code",
   "execution_count": 18,
   "id": "d90fa816-f245-410f-a33d-088fd7077d5b",
   "metadata": {},
   "outputs": [
    {
     "name": "stdout",
     "output_type": "stream",
     "text": [
      "OpenAI API key exists and begins sk-proj-\n",
      "* Running on local URL:  http://127.0.0.1:7862\n",
      "* To create a public link, set `share=True` in `launch()`.\n"
     ]
    },
    {
     "data": {
      "text/html": [
       "<div><iframe src=\"http://127.0.0.1:7862/\" width=\"100%\" height=\"500\" allow=\"autoplay; camera; microphone; clipboard-read; clipboard-write;\" frameborder=\"0\" allowfullscreen></iframe></div>"
      ],
      "text/plain": [
       "<IPython.core.display.HTML object>"
      ]
     },
     "metadata": {},
     "output_type": "display_data"
    },
    {
     "data": {
      "text/plain": []
     },
     "execution_count": 18,
     "metadata": {},
     "output_type": "execute_result"
    }
   ],
   "source": [
    "import os\n",
    "from dotenv import load_dotenv\n",
    "from openai import OpenAI\n",
    "import gradio as gr\n",
    "\n",
    "load_dotenv(override=True)\n",
    "openai_api_key = os.getenv('OPENAI_API_KEY')\n",
    "\n",
    "if openai_api_key:\n",
    "    print(f\"OpenAI API key exists and begins {openai_api_key[:8]}\")\n",
    "else:\n",
    "    print(\"OpenAI API key not set\")\n",
    "\n",
    "openai = OpenAI()\n",
    "MODEL = 'gpt-4o-mini'\n",
    "\n",
    "system_message = \"You are a helpful assistant in a car dealership. You should try to gently encourage \" \\\n",
    "                 \"the customer to consider vehicles that are currently on promotion. \" \\\n",
    "                 \"Electric cars are 20% off, and most other models are 15% off. \" \\\n",
    "                 \"For example, if the customer says 'I'm looking to buy a car', you could reply something like, \" \\\n",
    "                 \"'Great choice – we have a wide selection of vehicles, including several electric models that are part of our special promotion.' \" \\\n",
    "                 \"Encourage the customer to consider electric cars if they are unsure what to get.\"\n",
    "\n",
    "def chat(message, history):\n",
    "    relevant_system_message = system_message\n",
    "\n",
    "    if \"mustang\" in message.lower():\n",
    "        relevant_system_message += \"\\nIf the customer asks about the Ford Mustang, you should respond that the Mustang is currently not part of the promotion, but kindly remind the customer to check out the electric cars on sale!\"\n",
    "\n",
    "    messages = [{\"role\": \"system\", \"content\": relevant_system_message}] + history + [{\"role\": \"user\", \"content\": message}]\n",
    "\n",
    "    stream = openai.chat.completions.create(model=MODEL, messages=messages, stream=True)\n",
    "\n",
    "    response = \"\"\n",
    "    for chunk in stream:\n",
    "        response += chunk.choices[0].delta.content or ''\n",
    "        yield response\n",
    "\n",
    "gr.ChatInterface(fn=chat, type=\"messages\").launch()\n",
    "\n"
   ]
  },
  {
   "cell_type": "markdown",
   "id": "0ae075f2-63ea-4557-b87e-4c3af9b4cf9b",
   "metadata": {},
   "source": [
    "<img src=\"chat.preview.png\" alt=\"Chat Preview\" width=\"600\"/>\n"
   ]
  },
  {
   "cell_type": "code",
   "execution_count": null,
   "id": "55a69f3d-0659-4e90-be0d-0442b7e26cc9",
   "metadata": {},
   "outputs": [],
   "source": []
  }
 ],
 "metadata": {
  "kernelspec": {
   "display_name": "Python 3 (ipykernel)",
   "language": "python",
   "name": "python3"
  },
  "language_info": {
   "codemirror_mode": {
    "name": "ipython",
    "version": 3
   },
   "file_extension": ".py",
   "mimetype": "text/x-python",
   "name": "python",
   "nbconvert_exporter": "python",
   "pygments_lexer": "ipython3",
   "version": "3.11.12"
  }
 },
 "nbformat": 4,
 "nbformat_minor": 5
}
