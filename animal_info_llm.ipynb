{
 "cells": [
  {
   "cell_type": "code",
   "execution_count": 1,
   "id": "5205ca23-5d5d-48c5-939b-7a178892d862",
   "metadata": {},
   "outputs": [
    {
     "name": "stdout",
     "output_type": "stream",
     "text": [
      "Please type an animal to get information about:\n"
     ]
    },
    {
     "name": "stdin",
     "output_type": "stream",
     "text": [
      "Please type: Lion \n"
     ]
    },
    {
     "data": {
      "text/markdown": [
       "Sure! Here’s a detailed overview of lions.\n",
       "\n",
       "### Scientific Classification\n",
       "- **Kingdom:** Animalia\n",
       "- **Phylum:** Chordata\n",
       "- **Class:** Mammalia\n",
       "- **Order:** Carnivora\n",
       "- **Family:** Felidae\n",
       "- **Genus:** Panthera\n",
       "- **Species:** Panthera leo\n",
       "\n",
       "### Physical Characteristics\n",
       "- **Size:** Adult male lions typically weigh between 330 to 550 pounds (150 to 250 kg) and measure around 8 to 10 feet (2.5 to 3 meters) in length, including the tail. Females are generally smaller, weighing between 250 to 400 pounds (113 to 182 kg).\n",
       "- **Mane:** The most distinctive feature of male lions is their mane, which can vary in color from blonde to black and serves to attract females and intimidate rivals. The size and darkness of the mane can reflect the lion's health and vigor.\n",
       "- **Coat:** Lions have a short, tawny coat that helps them blend into their savanna habitats. They do not have the same level of camouflage as other big cats with spotted coats, yet their simple coloring allows for concealment in tall grasses.\n",
       "- **Eyes:** Lions have large, powerful jaws and sharp canine teeth. Their eyes are typically amber or brown and are well-adapted for low-light hunting.\n",
       "\n",
       "### Habitat\n",
       "- Lions primarily inhabit grasslands, savannas, and open woodlands within sub-Saharan Africa. Historically, they had a more extensive range, including parts of Europe, the Middle East, and even Asia.\n",
       "\n",
       "### Social Structure\n",
       "- **Pride:** Lions are the only social felines, living in a social structure known as a pride. A typical pride consists of several related females, their offspring, and one or two males. The females usually do the hunting, while males defend the pride’s territory.\n",
       "- **Hierarchy:** Within a pride, there is typically a dominant male, while females often stay together in matriarchal relationships. Males usually leave their family prides upon reaching maturity to establish their own.\n",
       "\n",
       "### Behavior\n",
       "- **Hunting:** Lions are apex predators and primarily hunt large ungulates like zebras, wildebeests, and buffaloes. They rely on teamwork and tactics, often utilizing the cover of darkness to stalk their prey.\n",
       "- **Roaring:** A lion's roar can be heard up to five miles away and is used to communicate with pride members, assert territorial claims, and deter intruders.\n",
       "\n",
       "### Reproduction\n",
       "- **Mating:** Female lions enter estrus approximately every 2-3 weeks and can mate multiple times over several days to increase the likelihood of successful fertilization.\n",
       "- **Gestation:** The gestation period lasts about 110 days. A lioness typically gives birth to 1-4 cubs, which are born blind and helpless.\n",
       "- **Cub Development:** Lion cubs begin to eat meat around three months old and are weaned by six months. They often stay with their mothers until about 2-3 years of age.\n",
       "\n",
       "### Conservation Status\n",
       "- **Threats:** Lions are currently classified as Vulnerable by the International Union for Conservation of Nature (IUCN). Major threats include habitat loss due to human encroachment, poaching, and conflict with livestock farmers.\n",
       "- **Conservation Efforts:** Various organizations and reserves focus on protecting lion habitats and implementing conservation strategies to mitigate human-wildlife conflict.\n",
       "\n",
       "### Interesting Facts\n",
       "- **Cultural Significance:** Lions have been prominent symbols in various cultures worldwide, often represented as symbols of strength, courage, and royalty.\n",
       "- **Communication:** Besides roaring, lions communicate through body language, facial expressions, and vocalizations such as growls, snarls, and grunts.\n",
       "\n",
       "Lions play a crucial ecological role as top predators, helping maintain the balance of ecosystems within their habitats. Their social structure, strength, and beauty make them iconic in the wild. Efforts to preserve their populations are vital for biodiversity and ecosystems in Africa."
      ],
      "text/plain": [
       "<IPython.core.display.Markdown object>"
      ]
     },
     "metadata": {},
     "output_type": "display_data"
    }
   ],
   "source": [
    "from dotenv import load_dotenv\n",
    "from IPython.display import Markdown, display, update_display\n",
    "from openai import OpenAI\n",
    "\n",
    "MODEL_GPT = 'gpt-4o-mini'\n",
    "\n",
    "load_dotenv()\n",
    "openai = OpenAI()\n",
    "\n",
    "print(\"Please type an animal to get information about:\")\n",
    "answer = input(\"Please type:\")\n",
    "\n",
    "system_prompt = \"You are a zookeeper who knows a lot about animals.\"\n",
    "user_prompt = \"Please give a detailed information about the following animal: \" + answer\n",
    "\n",
    "messages = [\n",
    "    {\"role\" : \"system\" , \"content\" : system_prompt},\n",
    "    {\"role\" : \"user\" , \"content\" : user_prompt}\n",
    "]\n",
    "\n",
    "stream = openai.chat.completions.create(model = MODEL_GPT, messages = messages , stream = True)\n",
    "response = \"\"\n",
    "display_handle = display(Markdown(\"\"), display_id = True)\n",
    "for chunk in stream:\n",
    "    response += chunk.choices[0].delta.content or ''\n",
    "    response = response.replace(\"```\",\"\").replace(\"markdown\",\"\")\n",
    "    update_display(Markdown(response), display_id = display_handle.display_id)\n"
   ]
  },
  {
   "cell_type": "code",
   "execution_count": null,
   "id": "c1834ae4-5bda-4329-adcc-93444c371554",
   "metadata": {},
   "outputs": [],
   "source": []
  }
 ],
 "metadata": {
  "kernelspec": {
   "display_name": "Python 3 (ipykernel)",
   "language": "python",
   "name": "python3"
  },
  "language_info": {
   "codemirror_mode": {
    "name": "ipython",
    "version": 3
   },
   "file_extension": ".py",
   "mimetype": "text/x-python",
   "name": "python",
   "nbconvert_exporter": "python",
   "pygments_lexer": "ipython3",
   "version": "3.11.12"
  }
 },
 "nbformat": 4,
 "nbformat_minor": 5
}
